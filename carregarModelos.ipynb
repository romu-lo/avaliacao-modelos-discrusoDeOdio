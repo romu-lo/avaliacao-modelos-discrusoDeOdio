{
 "cells": [
  {
   "cell_type": "code",
   "execution_count": 1,
   "metadata": {},
   "outputs": [],
   "source": [
    "import pickle as pkl\n",
    "import pandas as pd"
   ]
  },
  {
   "cell_type": "code",
   "execution_count": 14,
   "metadata": {},
   "outputs": [],
   "source": [
    "def predicoes(path_modelo: str, nome_arquivo: str):\n",
    "    dados = pd.read_excel('conjuntoDeTestes.xlsx')\n",
    "\n",
    "    with open(path_modelo, 'rb') as arquivo:\n",
    "        modelo = pkl.load(arquivo)\n",
    "\n",
    "    if 'SVM' in path_modelo:\n",
    "        predicao = modelo.predict(list(dados['frase']))\n",
    "        dados['predicao'] = predicao\n",
    "        dados.to_csv(nome_arquivo + '.csv')\n",
    "    \n",
    "    elif 'BERT' in path_modelo:\n",
    "        print(\"\\n\\nModelo: BERT\\n\\n\")\n",
    "        predicao = (modelo.predict(list(dados['frase'])))\n",
    "        dados['predicao'] = predicao[0]\n",
    "        dados.to_csv(nome_arquivo + '.csv')\n",
    "        \n",
    "    "
   ]
  },
  {
   "cell_type": "code",
   "execution_count": 4,
   "metadata": {},
   "outputs": [],
   "source": [
    "predicoes('modelos\\\\hate-br-SVM.pkl', 'svm-hate')"
   ]
  },
  {
   "cell_type": "code",
   "execution_count": 15,
   "metadata": {},
   "outputs": [
    {
     "name": "stdout",
     "output_type": "stream",
     "text": [
      "\n",
      "\n",
      "Modelo: BERT\n",
      "\n",
      "\n"
     ]
    },
    {
     "name": "stderr",
     "output_type": "stream",
     "text": [
      "  0%|          | 20/9615 [00:06<53:26,  2.99it/s]  \n",
      "100%|██████████| 1202/1202 [49:17<00:00,  2.46s/it]\n"
     ]
    }
   ],
   "source": [
    "predicao = predicoes('modelos\\\\Hate_BR-BERT_FULL.pkl', 'bert-hate')"
   ]
  },
  {
   "cell_type": "code",
   "execution_count": 11,
   "metadata": {},
   "outputs": [],
   "source": [
    "predicoes('modelos\\\\told-br-SVM.pkl', 'svm-told')"
   ]
  },
  {
   "cell_type": "code",
   "execution_count": 16,
   "metadata": {},
   "outputs": [
    {
     "name": "stdout",
     "output_type": "stream",
     "text": [
      "\n",
      "\n",
      "Modelo: BERT\n",
      "\n",
      "\n"
     ]
    },
    {
     "name": "stderr",
     "output_type": "stream",
     "text": [
      "  0%|          | 20/9615 [00:06<51:37,  3.10it/s]  \n",
      "100%|██████████| 1202/1202 [50:31<00:00,  2.52s/it]\n"
     ]
    }
   ],
   "source": [
    "predicao = predicoes('modelos\\\\TOLD_BR-BERT_FULL.pkl.pkl_', 'bert-told')"
   ]
  },
  {
   "cell_type": "code",
   "execution_count": null,
   "metadata": {},
   "outputs": [],
   "source": []
  }
 ],
 "metadata": {
  "kernelspec": {
   "display_name": "Python 3",
   "language": "python",
   "name": "python3"
  },
  "language_info": {
   "codemirror_mode": {
    "name": "ipython",
    "version": 3
   },
   "file_extension": ".py",
   "mimetype": "text/x-python",
   "name": "python",
   "nbconvert_exporter": "python",
   "pygments_lexer": "ipython3",
   "version": "3.10.10"
  },
  "orig_nbformat": 4
 },
 "nbformat": 4,
 "nbformat_minor": 2
}
